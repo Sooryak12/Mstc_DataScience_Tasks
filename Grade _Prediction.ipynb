{
 "cells": [
  {
   "cell_type": "code",
   "execution_count": 26,
   "metadata": {},
   "outputs": [],
   "source": [
    "import pandas as pd\n",
    "import numpy as np\n",
    "import seaborn as sns\n",
    "import matplotlib.pyplot as plt\n",
    "%matplotlib inline"
   ]
  },
  {
   "cell_type": "code",
   "execution_count": 27,
   "metadata": {},
   "outputs": [],
   "source": [
    "por=pd.read_csv(\"student-por.csv\")\n",
    "mat=pd.read_csv(\"student-mat.csv\")"
   ]
  },
  {
   "cell_type": "code",
   "execution_count": 28,
   "metadata": {},
   "outputs": [],
   "source": [
    "from sklearn.preprocessing import LabelEncoder"
   ]
  },
  {
   "cell_type": "code",
   "execution_count": null,
   "metadata": {},
   "outputs": [],
   "source": []
  },
  {
   "cell_type": "code",
   "execution_count": 29,
   "metadata": {},
   "outputs": [
    {
     "data": {
      "text/html": [
       "<div>\n",
       "<style scoped>\n",
       "    .dataframe tbody tr th:only-of-type {\n",
       "        vertical-align: middle;\n",
       "    }\n",
       "\n",
       "    .dataframe tbody tr th {\n",
       "        vertical-align: top;\n",
       "    }\n",
       "\n",
       "    .dataframe thead th {\n",
       "        text-align: right;\n",
       "    }\n",
       "</style>\n",
       "<table border=\"1\" class=\"dataframe\">\n",
       "  <thead>\n",
       "    <tr style=\"text-align: right;\">\n",
       "      <th></th>\n",
       "      <th>school</th>\n",
       "      <th>sex</th>\n",
       "      <th>age</th>\n",
       "      <th>address</th>\n",
       "      <th>famsize</th>\n",
       "      <th>Pstatus</th>\n",
       "      <th>Medu</th>\n",
       "      <th>Fedu</th>\n",
       "      <th>Mjob</th>\n",
       "      <th>Fjob</th>\n",
       "      <th>...</th>\n",
       "      <th>famrel</th>\n",
       "      <th>freetime</th>\n",
       "      <th>goout</th>\n",
       "      <th>Dalc</th>\n",
       "      <th>Walc</th>\n",
       "      <th>health</th>\n",
       "      <th>absences</th>\n",
       "      <th>G1</th>\n",
       "      <th>G2</th>\n",
       "      <th>G3</th>\n",
       "    </tr>\n",
       "  </thead>\n",
       "  <tbody>\n",
       "    <tr>\n",
       "      <td>0</td>\n",
       "      <td>GP</td>\n",
       "      <td>F</td>\n",
       "      <td>18</td>\n",
       "      <td>U</td>\n",
       "      <td>GT3</td>\n",
       "      <td>A</td>\n",
       "      <td>4</td>\n",
       "      <td>4</td>\n",
       "      <td>at_home</td>\n",
       "      <td>teacher</td>\n",
       "      <td>...</td>\n",
       "      <td>4</td>\n",
       "      <td>3</td>\n",
       "      <td>4</td>\n",
       "      <td>1</td>\n",
       "      <td>1</td>\n",
       "      <td>3</td>\n",
       "      <td>6</td>\n",
       "      <td>5</td>\n",
       "      <td>6</td>\n",
       "      <td>6</td>\n",
       "    </tr>\n",
       "    <tr>\n",
       "      <td>1</td>\n",
       "      <td>GP</td>\n",
       "      <td>F</td>\n",
       "      <td>17</td>\n",
       "      <td>U</td>\n",
       "      <td>GT3</td>\n",
       "      <td>T</td>\n",
       "      <td>1</td>\n",
       "      <td>1</td>\n",
       "      <td>at_home</td>\n",
       "      <td>other</td>\n",
       "      <td>...</td>\n",
       "      <td>5</td>\n",
       "      <td>3</td>\n",
       "      <td>3</td>\n",
       "      <td>1</td>\n",
       "      <td>1</td>\n",
       "      <td>3</td>\n",
       "      <td>4</td>\n",
       "      <td>5</td>\n",
       "      <td>5</td>\n",
       "      <td>6</td>\n",
       "    </tr>\n",
       "    <tr>\n",
       "      <td>2</td>\n",
       "      <td>GP</td>\n",
       "      <td>F</td>\n",
       "      <td>15</td>\n",
       "      <td>U</td>\n",
       "      <td>LE3</td>\n",
       "      <td>T</td>\n",
       "      <td>1</td>\n",
       "      <td>1</td>\n",
       "      <td>at_home</td>\n",
       "      <td>other</td>\n",
       "      <td>...</td>\n",
       "      <td>4</td>\n",
       "      <td>3</td>\n",
       "      <td>2</td>\n",
       "      <td>2</td>\n",
       "      <td>3</td>\n",
       "      <td>3</td>\n",
       "      <td>10</td>\n",
       "      <td>7</td>\n",
       "      <td>8</td>\n",
       "      <td>10</td>\n",
       "    </tr>\n",
       "    <tr>\n",
       "      <td>3</td>\n",
       "      <td>GP</td>\n",
       "      <td>F</td>\n",
       "      <td>15</td>\n",
       "      <td>U</td>\n",
       "      <td>GT3</td>\n",
       "      <td>T</td>\n",
       "      <td>4</td>\n",
       "      <td>2</td>\n",
       "      <td>health</td>\n",
       "      <td>services</td>\n",
       "      <td>...</td>\n",
       "      <td>3</td>\n",
       "      <td>2</td>\n",
       "      <td>2</td>\n",
       "      <td>1</td>\n",
       "      <td>1</td>\n",
       "      <td>5</td>\n",
       "      <td>2</td>\n",
       "      <td>15</td>\n",
       "      <td>14</td>\n",
       "      <td>15</td>\n",
       "    </tr>\n",
       "    <tr>\n",
       "      <td>4</td>\n",
       "      <td>GP</td>\n",
       "      <td>F</td>\n",
       "      <td>16</td>\n",
       "      <td>U</td>\n",
       "      <td>GT3</td>\n",
       "      <td>T</td>\n",
       "      <td>3</td>\n",
       "      <td>3</td>\n",
       "      <td>other</td>\n",
       "      <td>other</td>\n",
       "      <td>...</td>\n",
       "      <td>4</td>\n",
       "      <td>3</td>\n",
       "      <td>2</td>\n",
       "      <td>1</td>\n",
       "      <td>2</td>\n",
       "      <td>5</td>\n",
       "      <td>4</td>\n",
       "      <td>6</td>\n",
       "      <td>10</td>\n",
       "      <td>10</td>\n",
       "    </tr>\n",
       "  </tbody>\n",
       "</table>\n",
       "<p>5 rows × 33 columns</p>\n",
       "</div>"
      ],
      "text/plain": [
       "  school sex  age address famsize Pstatus  Medu  Fedu     Mjob      Fjob  ...  \\\n",
       "0     GP   F   18       U     GT3       A     4     4  at_home   teacher  ...   \n",
       "1     GP   F   17       U     GT3       T     1     1  at_home     other  ...   \n",
       "2     GP   F   15       U     LE3       T     1     1  at_home     other  ...   \n",
       "3     GP   F   15       U     GT3       T     4     2   health  services  ...   \n",
       "4     GP   F   16       U     GT3       T     3     3    other     other  ...   \n",
       "\n",
       "  famrel freetime  goout  Dalc  Walc health absences  G1  G2  G3  \n",
       "0      4        3      4     1     1      3        6   5   6   6  \n",
       "1      5        3      3     1     1      3        4   5   5   6  \n",
       "2      4        3      2     2     3      3       10   7   8  10  \n",
       "3      3        2      2     1     1      5        2  15  14  15  \n",
       "4      4        3      2     1     2      5        4   6  10  10  \n",
       "\n",
       "[5 rows x 33 columns]"
      ]
     },
     "execution_count": 29,
     "metadata": {},
     "output_type": "execute_result"
    }
   ],
   "source": [
    "mat.head()"
   ]
  },
  {
   "cell_type": "code",
   "execution_count": 30,
   "metadata": {},
   "outputs": [
    {
     "data": {
      "text/plain": [
       "Index(['school', 'sex', 'age', 'address', 'famsize', 'Pstatus', 'Medu', 'Fedu',\n",
       "       'Mjob', 'Fjob', 'reason', 'guardian', 'traveltime', 'studytime',\n",
       "       'failures', 'schoolsup', 'famsup', 'paid', 'activities', 'nursery',\n",
       "       'higher', 'internet', 'romantic', 'famrel', 'freetime', 'goout', 'Dalc',\n",
       "       'Walc', 'health', 'absences', 'G1', 'G2', 'G3'],\n",
       "      dtype='object')"
      ]
     },
     "execution_count": 30,
     "metadata": {},
     "output_type": "execute_result"
    }
   ],
   "source": [
    "mat.columns"
   ]
  },
  {
   "cell_type": "code",
   "execution_count": 31,
   "metadata": {},
   "outputs": [
    {
     "data": {
      "text/plain": [
       "<matplotlib.axes._subplots.AxesSubplot at 0x1b0a38b18c8>"
      ]
     },
     "execution_count": 31,
     "metadata": {},
     "output_type": "execute_result"
    },
    {
     "data": {
      "image/png": "[encoded data removed]",
      "text/plain": [
       "<Figure size 432x288 with 1 Axes>"
      ]
     },
     "metadata": {
      "needs_background": "light"
     },
     "output_type": "display_data"
    }
   ],
   "source": [
    "sns.boxplot(y=mat[\"G3\"],x=\"school\",data=mat)\n",
    "#box plot conveys that G3 school performs better than MS ."
   ]
  },
  {
   "cell_type": "code",
   "execution_count": 32,
   "metadata": {},
   "outputs": [
    {
     "name": "stdout",
     "output_type": "stream",
     "text": [
      "school:['GP' 'MS']\n",
      "sex:['F' 'M']\n",
      "age:[18 17 15 16 19 22 20 21]\n",
      "address:['U' 'R']\n",
      "famsize:['GT3' 'LE3']\n",
      "Pstatus:['A' 'T']\n",
      "Medu:[4 1 3 2 0]\n",
      "Fedu:[4 1 2 3 0]\n",
      "Mjob:['at_home' 'health' 'other' 'services' 'teacher']\n",
      "Fjob:['teacher' 'other' 'services' 'health' 'at_home']\n",
      "reason:['course' 'other' 'home' 'reputation']\n",
      "guardian:['mother' 'father' 'other']\n",
      "traveltime:[2 1 3 4]\n",
      "studytime:[2 3 1 4]\n",
      "failures:[0 3 2 1]\n",
      "schoolsup:['yes' 'no']\n",
      "famsup:['no' 'yes']\n",
      "paid:['no' 'yes']\n",
      "activities:['no' 'yes']\n",
      "nursery:['yes' 'no']\n",
      "higher:['yes' 'no']\n",
      "internet:['no' 'yes']\n",
      "romantic:['no' 'yes']\n",
      "famrel:[4 5 3 1 2]\n",
      "freetime:[3 2 4 1 5]\n",
      "goout:[4 3 2 1 5]\n",
      "Dalc:[1 2 5 3 4]\n",
      "Walc:[1 3 2 4 5]\n",
      "health:[3 5 1 2 4]\n",
      "absences:[ 6  4 10  2  0 16 14  7  8 25 12 54 18 26 20 56 24 28  5 13 15 22  3 21\n",
      "  1 75 30 19  9 11 38 40 23 17]\n",
      "G1:[ 5  7 15  6 12 16 14 10 13  8 11  9 17 19 18  4  3]\n",
      "G2:[ 6  5  8 14 10 15 12 18 16 13  9 11  7 19 17  4  0]\n",
      "G3:[ 6 10 15 11 19  9 12 14 16  5  8 17 18 13 20  7  0  4]\n"
     ]
    }
   ],
   "source": [
    "for i in mat.columns:\n",
    "    print(str(i)+ \":\"+str(mat[i].unique()))"
   ]
  },
  {
   "cell_type": "code",
   "execution_count": 33,
   "metadata": {},
   "outputs": [],
   "source": [
    "M=['school', 'sex','address', 'famsize', 'Pstatus','schoolsup', 'famsup', 'paid', 'activities', 'nursery',\n",
    "       'higher', 'internet', 'romantic']\n",
    "lc=LabelEncoder()\n",
    "for col in M:\n",
    "    mat[col] =lc.fit_transform(mat[col])"
   ]
  },
  {
   "cell_type": "code",
   "execution_count": 34,
   "metadata": {},
   "outputs": [
    {
     "data": {
      "text/plain": [
       "Index(['school', 'sex', 'age', 'address', 'famsize', 'Pstatus', 'Medu', 'Fedu',\n",
       "       'Mjob', 'Fjob', 'reason', 'guardian', 'traveltime', 'studytime',\n",
       "       'failures', 'schoolsup', 'famsup', 'paid', 'activities', 'nursery',\n",
       "       'higher', 'internet', 'romantic', 'famrel', 'freetime', 'goout', 'Dalc',\n",
       "       'Walc', 'health', 'absences', 'G1', 'G2', 'G3'],\n",
       "      dtype='object')"
      ]
     },
     "execution_count": 34,
     "metadata": {},
     "output_type": "execute_result"
    }
   ],
   "source": [
    "mat.columns"
   ]
  },
  {
   "cell_type": "code",
   "execution_count": 35,
   "metadata": {},
   "outputs": [
    {
     "data": {
      "text/plain": [
       "count    395.000000\n",
       "mean      10.415190\n",
       "std        4.581443\n",
       "min        0.000000\n",
       "25%        8.000000\n",
       "50%       11.000000\n",
       "75%       14.000000\n",
       "max       20.000000\n",
       "Name: G3, dtype: float64"
      ]
     },
     "execution_count": 35,
     "metadata": {},
     "output_type": "execute_result"
    }
   ],
   "source": [
    "mat[\"G3\"].describe()"
   ]
  },
  {
   "cell_type": "code",
   "execution_count": 36,
   "metadata": {},
   "outputs": [
    {
     "data": {
      "text/plain": [
       "0    349\n",
       "1     46\n",
       "Name: school, dtype: int64"
      ]
     },
     "execution_count": 36,
     "metadata": {},
     "output_type": "execute_result"
    }
   ],
   "source": [
    "mat[\"school\"].value_counts()"
   ]
  },
  {
   "cell_type": "code",
   "execution_count": 37,
   "metadata": {},
   "outputs": [
    {
     "name": "stdout",
     "output_type": "stream",
     "text": [
      "school:0    349\n",
      "1     46\n",
      "Name: school, dtype: int64\n",
      "sex:0    208\n",
      "1    187\n",
      "Name: sex, dtype: int64\n",
      "age:16    104\n",
      "17     98\n",
      "18     82\n",
      "15     82\n",
      "19     24\n",
      "20      3\n",
      "22      1\n",
      "21      1\n",
      "Name: age, dtype: int64\n",
      "address:1    307\n",
      "0     88\n",
      "Name: address, dtype: int64\n",
      "famsize:0    281\n",
      "1    114\n",
      "Name: famsize, dtype: int64\n",
      "Pstatus:1    354\n",
      "0     41\n",
      "Name: Pstatus, dtype: int64\n",
      "Medu:4    131\n",
      "2    103\n",
      "3     99\n",
      "1     59\n",
      "0      3\n",
      "Name: Medu, dtype: int64\n",
      "Fedu:2    115\n",
      "3    100\n",
      "4     96\n",
      "1     82\n",
      "0      2\n",
      "Name: Fedu, dtype: int64\n",
      "Mjob:other       141\n",
      "services    103\n",
      "at_home      59\n",
      "teacher      58\n",
      "health       34\n",
      "Name: Mjob, dtype: int64\n",
      "Fjob:other       217\n",
      "services    111\n",
      "teacher      29\n",
      "at_home      20\n",
      "health       18\n",
      "Name: Fjob, dtype: int64\n",
      "reason:course        145\n",
      "home          109\n",
      "reputation    105\n",
      "other          36\n",
      "Name: reason, dtype: int64\n",
      "guardian:mother    273\n",
      "father     90\n",
      "other      32\n",
      "Name: guardian, dtype: int64\n",
      "traveltime:1    257\n",
      "2    107\n",
      "3     23\n",
      "4      8\n",
      "Name: traveltime, dtype: int64\n",
      "studytime:2    198\n",
      "1    105\n",
      "3     65\n",
      "4     27\n",
      "Name: studytime, dtype: int64\n",
      "failures:0    312\n",
      "1     50\n",
      "2     17\n",
      "3     16\n",
      "Name: failures, dtype: int64\n",
      "schoolsup:0    344\n",
      "1     51\n",
      "Name: schoolsup, dtype: int64\n",
      "famsup:1    242\n",
      "0    153\n",
      "Name: famsup, dtype: int64\n",
      "paid:0    214\n",
      "1    181\n",
      "Name: paid, dtype: int64\n",
      "activities:1    201\n",
      "0    194\n",
      "Name: activities, dtype: int64\n",
      "nursery:1    314\n",
      "0     81\n",
      "Name: nursery, dtype: int64\n",
      "higher:1    375\n",
      "0     20\n",
      "Name: higher, dtype: int64\n",
      "internet:1    329\n",
      "0     66\n",
      "Name: internet, dtype: int64\n",
      "romantic:0    263\n",
      "1    132\n",
      "Name: romantic, dtype: int64\n",
      "famrel:4    195\n",
      "5    106\n",
      "3     68\n",
      "2     18\n",
      "1      8\n",
      "Name: famrel, dtype: int64\n",
      "freetime:3    157\n",
      "4    115\n",
      "2     64\n",
      "5     40\n",
      "1     19\n",
      "Name: freetime, dtype: int64\n",
      "goout:3    130\n",
      "2    103\n",
      "4     86\n",
      "5     53\n",
      "1     23\n",
      "Name: goout, dtype: int64\n",
      "Dalc:1    276\n",
      "2     75\n",
      "3     26\n",
      "5      9\n",
      "4      9\n",
      "Name: Dalc, dtype: int64\n",
      "Walc:1    151\n",
      "2     85\n",
      "3     80\n",
      "4     51\n",
      "5     28\n",
      "Name: Walc, dtype: int64\n",
      "health:5    146\n",
      "3     91\n",
      "4     66\n",
      "1     47\n",
      "2     45\n",
      "Name: health, dtype: int64\n",
      "absences:0     115\n",
      "2      65\n",
      "4      53\n",
      "6      31\n",
      "8      22\n",
      "10     17\n",
      "14     12\n",
      "12     12\n",
      "3       8\n",
      "7       7\n",
      "16      7\n",
      "18      5\n",
      "5       5\n",
      "20      4\n",
      "22      3\n",
      "13      3\n",
      "1       3\n",
      "9       3\n",
      "11      3\n",
      "15      3\n",
      "23      1\n",
      "24      1\n",
      "21      1\n",
      "25      1\n",
      "56      1\n",
      "26      1\n",
      "28      1\n",
      "30      1\n",
      "17      1\n",
      "38      1\n",
      "40      1\n",
      "54      1\n",
      "19      1\n",
      "75      1\n",
      "Name: absences, dtype: int64\n",
      "G1:10    51\n",
      "8     41\n",
      "11    39\n",
      "7     37\n",
      "12    35\n",
      "13    33\n",
      "9     31\n",
      "14    30\n",
      "15    24\n",
      "6     24\n",
      "16    22\n",
      "17     8\n",
      "18     8\n",
      "5      7\n",
      "19     3\n",
      "4      1\n",
      "3      1\n",
      "Name: G1, dtype: int64\n",
      "G2:9     50\n",
      "10    46\n",
      "12    41\n",
      "13    37\n",
      "11    35\n",
      "15    34\n",
      "8     32\n",
      "14    23\n",
      "7     21\n",
      "5     15\n",
      "6     14\n",
      "0     13\n",
      "16    13\n",
      "18    12\n",
      "17     5\n",
      "19     3\n",
      "4      1\n",
      "Name: G2, dtype: int64\n",
      "G3:10    56\n",
      "11    47\n",
      "0     38\n",
      "15    33\n",
      "8     32\n",
      "13    31\n",
      "12    31\n",
      "9     28\n",
      "14    27\n",
      "16    16\n",
      "6     15\n",
      "18    12\n",
      "7      9\n",
      "5      7\n",
      "17     6\n",
      "19     5\n",
      "4      1\n",
      "20     1\n",
      "Name: G3, dtype: int64\n"
     ]
    }
   ],
   "source": [
    "for i in mat.columns:\n",
    "    print(str(i) + \":\" + str(mat[i].value_counts()))"
   ]
  },
  {
   "cell_type": "markdown",
   "metadata": {},
   "source": [
    "### To Analyse the data better we make the final grade [G3] into categorical column."
   ]
  },
  {
   "cell_type": "code",
   "execution_count": 38,
   "metadata": {},
   "outputs": [],
   "source": [
    "def conve(i):\n",
    "    if i<5:\n",
    "        return 0\n",
    "    if 10>i>4:\n",
    "        return 1\n",
    "    if 15>i>9:\n",
    "        return 2\n",
    "    if 21>i>14:\n",
    "        return 3\n",
    "mat[\"G3_cat\"]=mat[\"G3\"].apply(conve)\n"
   ]
  },
  {
   "cell_type": "code",
   "execution_count": 39,
   "metadata": {},
   "outputs": [],
   "source": [
    "nmat=mat.groupby(mat[\"G3_cat\"]).sum()\n"
   ]
  },
  {
   "cell_type": "code",
   "execution_count": 40,
   "metadata": {},
   "outputs": [
    {
     "data": {
      "text/html": [
       "<div>\n",
       "<style scoped>\n",
       "    .dataframe tbody tr th:only-of-type {\n",
       "        vertical-align: middle;\n",
       "    }\n",
       "\n",
       "    .dataframe tbody tr th {\n",
       "        vertical-align: top;\n",
       "    }\n",
       "\n",
       "    .dataframe thead th {\n",
       "        text-align: right;\n",
       "    }\n",
       "</style>\n",
       "<table border=\"1\" class=\"dataframe\">\n",
       "  <thead>\n",
       "    <tr style=\"text-align: right;\">\n",
       "      <th></th>\n",
       "      <th>school</th>\n",
       "      <th>sex</th>\n",
       "      <th>age</th>\n",
       "      <th>address</th>\n",
       "      <th>famsize</th>\n",
       "      <th>Pstatus</th>\n",
       "      <th>Medu</th>\n",
       "      <th>Fedu</th>\n",
       "      <th>traveltime</th>\n",
       "      <th>studytime</th>\n",
       "      <th>...</th>\n",
       "      <th>freetime</th>\n",
       "      <th>goout</th>\n",
       "      <th>Dalc</th>\n",
       "      <th>Walc</th>\n",
       "      <th>health</th>\n",
       "      <th>absences</th>\n",
       "      <th>G1</th>\n",
       "      <th>G2</th>\n",
       "      <th>G3</th>\n",
       "      <th>G3_cat</th>\n",
       "    </tr>\n",
       "    <tr>\n",
       "      <th>G3_cat</th>\n",
       "      <th></th>\n",
       "      <th></th>\n",
       "      <th></th>\n",
       "      <th></th>\n",
       "      <th></th>\n",
       "      <th></th>\n",
       "      <th></th>\n",
       "      <th></th>\n",
       "      <th></th>\n",
       "      <th></th>\n",
       "      <th></th>\n",
       "      <th></th>\n",
       "      <th></th>\n",
       "      <th></th>\n",
       "      <th></th>\n",
       "      <th></th>\n",
       "      <th></th>\n",
       "      <th></th>\n",
       "      <th></th>\n",
       "      <th></th>\n",
       "      <th></th>\n",
       "    </tr>\n",
       "  </thead>\n",
       "  <tbody>\n",
       "    <tr>\n",
       "      <td>0</td>\n",
       "      <td>4</td>\n",
       "      <td>15</td>\n",
       "      <td>666</td>\n",
       "      <td>29</td>\n",
       "      <td>7</td>\n",
       "      <td>37</td>\n",
       "      <td>92</td>\n",
       "      <td>90</td>\n",
       "      <td>62</td>\n",
       "      <td>77</td>\n",
       "      <td>...</td>\n",
       "      <td>123</td>\n",
       "      <td>127</td>\n",
       "      <td>53</td>\n",
       "      <td>77</td>\n",
       "      <td>138</td>\n",
       "      <td>22</td>\n",
       "      <td>292</td>\n",
       "      <td>183</td>\n",
       "      <td>4</td>\n",
       "      <td>0</td>\n",
       "    </tr>\n",
       "    <tr>\n",
       "      <td>1</td>\n",
       "      <td>13</td>\n",
       "      <td>40</td>\n",
       "      <td>1547</td>\n",
       "      <td>68</td>\n",
       "      <td>27</td>\n",
       "      <td>82</td>\n",
       "      <td>242</td>\n",
       "      <td>216</td>\n",
       "      <td>132</td>\n",
       "      <td>176</td>\n",
       "      <td>...</td>\n",
       "      <td>301</td>\n",
       "      <td>315</td>\n",
       "      <td>149</td>\n",
       "      <td>228</td>\n",
       "      <td>341</td>\n",
       "      <td>857</td>\n",
       "      <td>717</td>\n",
       "      <td>704</td>\n",
       "      <td>696</td>\n",
       "      <td>91</td>\n",
       "    </tr>\n",
       "    <tr>\n",
       "      <td>2</td>\n",
       "      <td>23</td>\n",
       "      <td>91</td>\n",
       "      <td>3190</td>\n",
       "      <td>147</td>\n",
       "      <td>56</td>\n",
       "      <td>171</td>\n",
       "      <td>517</td>\n",
       "      <td>487</td>\n",
       "      <td>282</td>\n",
       "      <td>392</td>\n",
       "      <td>...</td>\n",
       "      <td>614</td>\n",
       "      <td>577</td>\n",
       "      <td>295</td>\n",
       "      <td>461</td>\n",
       "      <td>677</td>\n",
       "      <td>1106</td>\n",
       "      <td>2165</td>\n",
       "      <td>2187</td>\n",
       "      <td>2230</td>\n",
       "      <td>384</td>\n",
       "    </tr>\n",
       "    <tr>\n",
       "      <td>3</td>\n",
       "      <td>6</td>\n",
       "      <td>41</td>\n",
       "      <td>1192</td>\n",
       "      <td>63</td>\n",
       "      <td>24</td>\n",
       "      <td>64</td>\n",
       "      <td>235</td>\n",
       "      <td>203</td>\n",
       "      <td>96</td>\n",
       "      <td>159</td>\n",
       "      <td>...</td>\n",
       "      <td>240</td>\n",
       "      <td>209</td>\n",
       "      <td>88</td>\n",
       "      <td>139</td>\n",
       "      <td>248</td>\n",
       "      <td>270</td>\n",
       "      <td>1135</td>\n",
       "      <td>1158</td>\n",
       "      <td>1184</td>\n",
       "      <td>219</td>\n",
       "    </tr>\n",
       "  </tbody>\n",
       "</table>\n",
       "<p>4 rows × 30 columns</p>\n",
       "</div>"
      ],
      "text/plain": [
       "        school  sex   age  address  famsize  Pstatus  Medu  Fedu  traveltime  \\\n",
       "G3_cat                                                                         \n",
       "0            4   15   666       29        7       37    92    90          62   \n",
       "1           13   40  1547       68       27       82   242   216         132   \n",
       "2           23   91  3190      147       56      171   517   487         282   \n",
       "3            6   41  1192       63       24       64   235   203          96   \n",
       "\n",
       "        studytime  ...  freetime  goout  Dalc  Walc  health  absences    G1  \\\n",
       "G3_cat             ...                                                        \n",
       "0              77  ...       123    127    53    77     138        22   292   \n",
       "1             176  ...       301    315   149   228     341       857   717   \n",
       "2             392  ...       614    577   295   461     677      1106  2165   \n",
       "3             159  ...       240    209    88   139     248       270  1135   \n",
       "\n",
       "          G2    G3  G3_cat  \n",
       "G3_cat                      \n",
       "0        183     4       0  \n",
       "1        704   696      91  \n",
       "2       2187  2230     384  \n",
       "3       1158  1184     219  \n",
       "\n",
       "[4 rows x 30 columns]"
      ]
     },
     "execution_count": 40,
     "metadata": {},
     "output_type": "execute_result"
    }
   ],
   "source": [
    "nmat"
   ]
  },
  {
   "cell_type": "code",
   "execution_count": 41,
   "metadata": {},
   "outputs": [],
   "source": [
    "for i in nmat.columns:\n",
    "    nmat[i] = nmat[i].astype(float)\n"
   ]
  },
  {
   "cell_type": "code",
   "execution_count": 42,
   "metadata": {},
   "outputs": [
    {
     "name": "stdout",
     "output_type": "stream",
     "text": [
      "<class 'pandas.core.frame.DataFrame'>\n",
      "Int64Index: 4 entries, 0 to 3\n",
      "Data columns (total 30 columns):\n",
      "school        4 non-null float64\n",
      "sex           4 non-null float64\n",
      "age           4 non-null float64\n",
      "address       4 non-null float64\n",
      "famsize       4 non-null float64\n",
      "Pstatus       4 non-null float64\n",
      "Medu          4 non-null float64\n",
      "Fedu          4 non-null float64\n",
      "traveltime    4 non-null float64\n",
      "studytime     4 non-null float64\n",
      "failures      4 non-null float64\n",
      "schoolsup     4 non-null float64\n",
      "famsup        4 non-null float64\n",
      "paid          4 non-null float64\n",
      "activities    4 non-null float64\n",
      "nursery       4 non-null float64\n",
      "higher        4 non-null float64\n",
      "internet      4 non-null float64\n",
      "romantic      4 non-null float64\n",
      "famrel        4 non-null float64\n",
      "freetime      4 non-null float64\n",
      "goout         4 non-null float64\n",
      "Dalc          4 non-null float64\n",
      "Walc          4 non-null float64\n",
      "health        4 non-null float64\n",
      "absences      4 non-null float64\n",
      "G1            4 non-null float64\n",
      "G2            4 non-null float64\n",
      "G3            4 non-null float64\n",
      "G3_cat        4 non-null float64\n",
      "dtypes: float64(30)\n",
      "memory usage: 992.0 bytes\n"
     ]
    }
   ],
   "source": [
    "nmat.info()"
   ]
  },
  {
   "cell_type": "markdown",
   "metadata": {},
   "source": [
    "## To get a broad perspective we grouby g3 and analyse"
   ]
  },
  {
   "cell_type": "code",
   "execution_count": 43,
   "metadata": {},
   "outputs": [],
   "source": [
    "x=mat[\"G3_cat\"].value_counts().reset_index()"
   ]
  },
  {
   "cell_type": "code",
   "execution_count": 44,
   "metadata": {},
   "outputs": [
    {
     "data": {
      "text/html": [
       "<div>\n",
       "<style scoped>\n",
       "    .dataframe tbody tr th:only-of-type {\n",
       "        vertical-align: middle;\n",
       "    }\n",
       "\n",
       "    .dataframe tbody tr th {\n",
       "        vertical-align: top;\n",
       "    }\n",
       "\n",
       "    .dataframe thead th {\n",
       "        text-align: right;\n",
       "    }\n",
       "</style>\n",
       "<table border=\"1\" class=\"dataframe\">\n",
       "  <thead>\n",
       "    <tr style=\"text-align: right;\">\n",
       "      <th></th>\n",
       "      <th>G3_cat</th>\n",
       "    </tr>\n",
       "    <tr>\n",
       "      <th>index</th>\n",
       "      <th></th>\n",
       "    </tr>\n",
       "  </thead>\n",
       "  <tbody>\n",
       "    <tr>\n",
       "      <td>0</td>\n",
       "      <td>39</td>\n",
       "    </tr>\n",
       "    <tr>\n",
       "      <td>1</td>\n",
       "      <td>91</td>\n",
       "    </tr>\n",
       "    <tr>\n",
       "      <td>2</td>\n",
       "      <td>192</td>\n",
       "    </tr>\n",
       "    <tr>\n",
       "      <td>3</td>\n",
       "      <td>73</td>\n",
       "    </tr>\n",
       "  </tbody>\n",
       "</table>\n",
       "</div>"
      ],
      "text/plain": [
       "       G3_cat\n",
       "index        \n",
       "0          39\n",
       "1          91\n",
       "2         192\n",
       "3          73"
      ]
     },
     "execution_count": 44,
     "metadata": {},
     "output_type": "execute_result"
    }
   ],
   "source": [
    "x.set_index(\"index\").sort_index()"
   ]
  },
  {
   "cell_type": "code",
   "execution_count": 45,
   "metadata": {},
   "outputs": [],
   "source": [
    "for i in range(4):\n",
    "    for j in nmat.columns:\n",
    "        if(i==0):\n",
    "            nmat.loc[i][j]= (nmat.loc[i][j]) / 39\n",
    "        elif i==1:\n",
    "             nmat.loc[i][j]= (nmat.loc[i][j]) / 91\n",
    "        elif i==2:\n",
    "              nmat.loc[i][j]= (nmat.loc[i][j]) / 192\n",
    "        elif i==3:\n",
    "               nmat.loc[i][j]= (nmat.loc[i][j]) / 73\n",
    "            "
   ]
  },
  {
   "cell_type": "code",
   "execution_count": 46,
   "metadata": {
    "scrolled": true
   },
   "outputs": [
    {
     "data": {
      "text/html": [
       "<div>\n",
       "<style scoped>\n",
       "    .dataframe tbody tr th:only-of-type {\n",
       "        vertical-align: middle;\n",
       "    }\n",
       "\n",
       "    .dataframe tbody tr th {\n",
       "        vertical-align: top;\n",
       "    }\n",
       "\n",
       "    .dataframe thead th {\n",
       "        text-align: right;\n",
       "    }\n",
       "</style>\n",
       "<table border=\"1\" class=\"dataframe\">\n",
       "  <thead>\n",
       "    <tr style=\"text-align: right;\">\n",
       "      <th></th>\n",
       "      <th>school</th>\n",
       "      <th>sex</th>\n",
       "      <th>age</th>\n",
       "      <th>address</th>\n",
       "      <th>famsize</th>\n",
       "      <th>Pstatus</th>\n",
       "      <th>Medu</th>\n",
       "      <th>Fedu</th>\n",
       "      <th>traveltime</th>\n",
       "      <th>studytime</th>\n",
       "      <th>...</th>\n",
       "      <th>freetime</th>\n",
       "      <th>goout</th>\n",
       "      <th>Dalc</th>\n",
       "      <th>Walc</th>\n",
       "      <th>health</th>\n",
       "      <th>absences</th>\n",
       "      <th>G1</th>\n",
       "      <th>G2</th>\n",
       "      <th>G3</th>\n",
       "      <th>G3_cat</th>\n",
       "    </tr>\n",
       "    <tr>\n",
       "      <th>G3_cat</th>\n",
       "      <th></th>\n",
       "      <th></th>\n",
       "      <th></th>\n",
       "      <th></th>\n",
       "      <th></th>\n",
       "      <th></th>\n",
       "      <th></th>\n",
       "      <th></th>\n",
       "      <th></th>\n",
       "      <th></th>\n",
       "      <th></th>\n",
       "      <th></th>\n",
       "      <th></th>\n",
       "      <th></th>\n",
       "      <th></th>\n",
       "      <th></th>\n",
       "      <th></th>\n",
       "      <th></th>\n",
       "      <th></th>\n",
       "      <th></th>\n",
       "      <th></th>\n",
       "    </tr>\n",
       "  </thead>\n",
       "  <tbody>\n",
       "    <tr>\n",
       "      <td>0</td>\n",
       "      <td>0.102564</td>\n",
       "      <td>0.384615</td>\n",
       "      <td>17.076923</td>\n",
       "      <td>0.743590</td>\n",
       "      <td>0.179487</td>\n",
       "      <td>0.948718</td>\n",
       "      <td>2.358974</td>\n",
       "      <td>2.307692</td>\n",
       "      <td>1.589744</td>\n",
       "      <td>1.974359</td>\n",
       "      <td>...</td>\n",
       "      <td>3.153846</td>\n",
       "      <td>3.256410</td>\n",
       "      <td>1.358974</td>\n",
       "      <td>1.974359</td>\n",
       "      <td>3.538462</td>\n",
       "      <td>0.564103</td>\n",
       "      <td>7.487179</td>\n",
       "      <td>4.692308</td>\n",
       "      <td>0.102564</td>\n",
       "      <td>0.0</td>\n",
       "    </tr>\n",
       "    <tr>\n",
       "      <td>1</td>\n",
       "      <td>0.142857</td>\n",
       "      <td>0.439560</td>\n",
       "      <td>17.000000</td>\n",
       "      <td>0.747253</td>\n",
       "      <td>0.296703</td>\n",
       "      <td>0.901099</td>\n",
       "      <td>2.659341</td>\n",
       "      <td>2.373626</td>\n",
       "      <td>1.450549</td>\n",
       "      <td>1.934066</td>\n",
       "      <td>...</td>\n",
       "      <td>3.307692</td>\n",
       "      <td>3.461538</td>\n",
       "      <td>1.637363</td>\n",
       "      <td>2.505495</td>\n",
       "      <td>3.747253</td>\n",
       "      <td>9.417582</td>\n",
       "      <td>7.879121</td>\n",
       "      <td>7.736264</td>\n",
       "      <td>7.648352</td>\n",
       "      <td>1.0</td>\n",
       "    </tr>\n",
       "    <tr>\n",
       "      <td>2</td>\n",
       "      <td>0.119792</td>\n",
       "      <td>0.473958</td>\n",
       "      <td>16.614583</td>\n",
       "      <td>0.765625</td>\n",
       "      <td>0.291667</td>\n",
       "      <td>0.890625</td>\n",
       "      <td>2.692708</td>\n",
       "      <td>2.536458</td>\n",
       "      <td>1.468750</td>\n",
       "      <td>2.041667</td>\n",
       "      <td>...</td>\n",
       "      <td>3.197917</td>\n",
       "      <td>3.005208</td>\n",
       "      <td>1.536458</td>\n",
       "      <td>2.401042</td>\n",
       "      <td>3.526042</td>\n",
       "      <td>5.760417</td>\n",
       "      <td>11.276042</td>\n",
       "      <td>11.390625</td>\n",
       "      <td>11.614583</td>\n",
       "      <td>2.0</td>\n",
       "    </tr>\n",
       "    <tr>\n",
       "      <td>3</td>\n",
       "      <td>0.082192</td>\n",
       "      <td>0.561644</td>\n",
       "      <td>16.328767</td>\n",
       "      <td>0.863014</td>\n",
       "      <td>0.328767</td>\n",
       "      <td>0.876712</td>\n",
       "      <td>3.219178</td>\n",
       "      <td>2.780822</td>\n",
       "      <td>1.315068</td>\n",
       "      <td>2.178082</td>\n",
       "      <td>...</td>\n",
       "      <td>3.287671</td>\n",
       "      <td>2.863014</td>\n",
       "      <td>1.205479</td>\n",
       "      <td>1.904110</td>\n",
       "      <td>3.397260</td>\n",
       "      <td>3.698630</td>\n",
       "      <td>15.547945</td>\n",
       "      <td>15.863014</td>\n",
       "      <td>16.219178</td>\n",
       "      <td>3.0</td>\n",
       "    </tr>\n",
       "  </tbody>\n",
       "</table>\n",
       "<p>4 rows × 30 columns</p>\n",
       "</div>"
      ],
      "text/plain": [
       "          school       sex        age   address   famsize   Pstatus      Medu  \\\n",
       "G3_cat                                                                          \n",
       "0       0.102564  0.384615  17.076923  0.743590  0.179487  0.948718  2.358974   \n",
       "1       0.142857  0.439560  17.000000  0.747253  0.296703  0.901099  2.659341   \n",
       "2       0.119792  0.473958  16.614583  0.765625  0.291667  0.890625  2.692708   \n",
       "3       0.082192  0.561644  16.328767  0.863014  0.328767  0.876712  3.219178   \n",
       "\n",
       "            Fedu  traveltime  studytime  ...  freetime     goout      Dalc  \\\n",
       "G3_cat                                   ...                                 \n",
       "0       2.307692    1.589744   1.974359  ...  3.153846  3.256410  1.358974   \n",
       "1       2.373626    1.450549   1.934066  ...  3.307692  3.461538  1.637363   \n",
       "2       2.536458    1.468750   2.041667  ...  3.197917  3.005208  1.536458   \n",
       "3       2.780822    1.315068   2.178082  ...  3.287671  2.863014  1.205479   \n",
       "\n",
       "            Walc    health  absences         G1         G2         G3  G3_cat  \n",
       "G3_cat                                                                         \n",
       "0       1.974359  3.538462  0.564103   7.487179   4.692308   0.102564     0.0  \n",
       "1       2.505495  3.747253  9.417582   7.879121   7.736264   7.648352     1.0  \n",
       "2       2.401042  3.526042  5.760417  11.276042  11.390625  11.614583     2.0  \n",
       "3       1.904110  3.397260  3.698630  15.547945  15.863014  16.219178     3.0  \n",
       "\n",
       "[4 rows x 30 columns]"
      ]
     },
     "execution_count": 46,
     "metadata": {},
     "output_type": "execute_result"
    }
   ],
   "source": [
    "nmat"
   ]
  },
  {
   "cell_type": "markdown",
   "metadata": {},
   "source": [
    "# # We can infer alot of insights from this Tabular Column\n",
    " *There is no major change in the marks of G1,G2,G3 .but we see aa small increasing trend\n",
    "\n",
    " *We see that for the group 1 the marks are rapidly decreasing. in G3 exam their average mark is 0!\n",
    "  This is due 38 0 marks in  G3 exam .It is an Outlier .which will affect the model.\n",
    "  \n",
    " *The age of people in G2 and G3 cat is generally less than G1 and G2."
   ]
  },
  {
   "cell_type": "code",
   "execution_count": 97,
   "metadata": {},
   "outputs": [
    {
     "data": {
      "text/plain": [
       "<matplotlib.axes._subplots.AxesSubplot at 0x1e8645e27c8>"
      ]
     },
     "execution_count": 97,
     "metadata": {},
     "output_type": "execute_result"
    },
    {
     "data": {
      "image/png": "[encoded data removed]",
      "text/plain": [
       "<Figure size 432x288 with 1 Axes>"
      ]
     },
     "metadata": {
      "needs_background": "light"
     },
     "output_type": "display_data"
    }
   ],
   "source": [
    "sns.barplot(x=\"G3_cat\",y=\"studytime\",data=nmat)\n",
    "#There is not a vast diff in study time.\n"
   ]
  },
  {
   "cell_type": "code",
   "execution_count": 124,
   "metadata": {},
   "outputs": [
    {
     "data": {
      "image/png": "[encoded data removed]",
      "text/plain": [
       "<Figure size 432x288 with 2 Axes>"
      ]
     },
     "metadata": {
      "needs_background": "light"
     },
     "output_type": "display_data"
    }
   ],
   "source": [
    "\n",
    "plt.subplot(2,1,1)\n",
    "sns.barplot(x=\"G3_cat\",y=\"Dalc\",data=nmat)\n",
    "\n",
    "plt.subplot(2,1,2)\n",
    "sns.barplot(x=\"G3_cat\",y=\"Walc\",data=nmat)\n",
    "\n",
    "\n",
    "plt.show()\n",
    "#Alcoholic Consumption is higher in first and second category with Weekly alcoholic consumption the most"
   ]
  },
  {
   "cell_type": "code",
   "execution_count": 120,
   "metadata": {},
   "outputs": [
    {
     "data": {
      "image/png": "[encoded data removed]",
      "text/plain": [
       "<Figure size 432x288 with 2 Axes>"
      ]
     },
     "metadata": {
      "needs_background": "light"
     },
     "output_type": "display_data"
    }
   ],
   "source": [
    "plt.subplot(2,1,1)\n",
    "sns.barplot(x=\"G3_cat\",y=\"G1\",data=nmat)\n",
    "\n",
    "plt.subplot(2,1,2)\n",
    "sns.barplot(x=\"G3_cat\",y=\"G2\",data=nmat)\n",
    "\n",
    "\n",
    "plt.show()"
   ]
  },
  {
   "cell_type": "markdown",
   "metadata": {},
   "source": [
    "# There is no major diff in G1 and G2 marks"
   ]
  },
  {
   "cell_type": "code",
   "execution_count": 123,
   "metadata": {},
   "outputs": [
    {
     "data": {
      "text/plain": [
       "<matplotlib.axes._subplots.AxesSubplot at 0x1e874bb3708>"
      ]
     },
     "execution_count": 123,
     "metadata": {},
     "output_type": "execute_result"
    },
    {
     "data": {
      "image/png": "[encoded data removed]",
      "text/plain": [
       "<Figure size 432x288 with 1 Axes>"
      ]
     },
     "metadata": {
      "needs_background": "light"
     },
     "output_type": "display_data"
    }
   ],
   "source": [
    "sns.barplot(x=\"G3_cat\",y=\"failures\",data=nmat)"
   ]
  },
  {
   "cell_type": "code",
   "execution_count": 127,
   "metadata": {},
   "outputs": [
    {
     "data": {
      "text/plain": [
       "<matplotlib.axes._subplots.AxesSubplot at 0x1e874c0bb88>"
      ]
     },
     "execution_count": 127,
     "metadata": {},
     "output_type": "execute_result"
    },
    {
     "data": {
      "image/png": "[encoded data removed]",
      "text/plain": [
       "<Figure size 432x288 with 1 Axes>"
      ]
     },
     "metadata": {
      "needs_background": "light"
     },
     "output_type": "display_data"
    }
   ],
   "source": [
    "sns.barplot(x=\"G3_cat\",y=\"Medu\",data=nmat)"
   ]
  },
  {
   "cell_type": "code",
   "execution_count": 128,
   "metadata": {},
   "outputs": [
    {
     "data": {
      "text/plain": [
       "<matplotlib.axes._subplots.AxesSubplot at 0x1e874ed6a48>"
      ]
     },
     "execution_count": 128,
     "metadata": {},
     "output_type": "execute_result"
    },
    {
     "data": {
      "image/png": "[encoded data removed]",
      "text/plain": [
       "<Figure size 432x288 with 1 Axes>"
      ]
     },
     "metadata": {
      "needs_background": "light"
     },
     "output_type": "display_data"
    }
   ],
   "source": [
    "sns.barplot(x=\"G3_cat\",y=\"Fedu\",data=nmat)"
   ]
  },
  {
   "cell_type": "code",
   "execution_count": null,
   "metadata": {},
   "outputs": [],
   "source": [
    "#We see a trend in Mothers and Fathers Education playing a role in Grades with Medu influence is more."
   ]
  },
  {
   "cell_type": "code",
   "execution_count": 133,
   "metadata": {},
   "outputs": [],
   "source": [
    "matt=pd.read_csv(\"student-mat.csv\")"
   ]
  },
  {
   "cell_type": "code",
   "execution_count": 47,
   "metadata": {},
   "outputs": [
    {
     "data": {
      "text/plain": [
       "school       -0.064571\n",
       "sex           0.103151\n",
       "age          -0.173438\n",
       "address       0.119457\n",
       "famsize       0.066279\n",
       "Pstatus      -0.044262\n",
       "Medu          0.225036\n",
       "Fedu          0.170049\n",
       "traveltime   -0.120530\n",
       "studytime     0.105170\n",
       "failures     -0.361224\n",
       "schoolsup    -0.150598\n",
       "famsup       -0.050482\n",
       "paid          0.060924\n",
       "activities    0.026090\n",
       "nursery       0.031752\n",
       "higher        0.172418\n",
       "internet      0.107816\n",
       "romantic     -0.091460\n",
       "famrel        0.054977\n",
       "freetime     -0.004994\n",
       "goout        -0.166119\n",
       "Dalc         -0.120944\n",
       "Walc         -0.104459\n",
       "health       -0.047790\n",
       "absences      0.017731\n",
       "G1            0.878001\n",
       "G2            0.957125\n",
       "G3            1.000000\n",
       "G3_cat        0.934315\n",
       "Name: G3, dtype: float64"
      ]
     },
     "execution_count": 47,
     "metadata": {},
     "output_type": "execute_result"
    }
   ],
   "source": [
    "mat.corr(method=\"spearman\")[\"G3\"]"
   ]
  },
  {
   "cell_type": "code",
   "execution_count": null,
   "metadata": {},
   "outputs": [],
   "source": [
    "#We obtain the same insights from this correlation "
   ]
  },
  {
   "cell_type": "code",
   "execution_count": 48,
   "metadata": {},
   "outputs": [],
   "source": [
    "from sklearn.ensemble import RandomForestClassifier\n",
    "from sklearn.linear_model import LogisticRegression\n",
    "from sklearn.neighbors import KNeighborsClassifier as KNN\n",
    "from sklearn.svm import SVC\n",
    "from sklearn.metrics import classification_report,confusion_matrix"
   ]
  },
  {
   "cell_type": "code",
   "execution_count": 49,
   "metadata": {},
   "outputs": [],
   "source": [
    "from sklearn.model_selection import train_test_split"
   ]
  },
  {
   "cell_type": "code",
   "execution_count": 141,
   "metadata": {},
   "outputs": [
    {
     "data": {
      "text/plain": [
       "Index(['school', 'sex', 'age', 'address', 'famsize', 'Pstatus', 'Medu', 'Fedu',\n",
       "       'Mjob', 'Fjob', 'reason', 'guardian', 'traveltime', 'studytime',\n",
       "       'failures', 'schoolsup', 'famsup', 'paid', 'activities', 'nursery',\n",
       "       'higher', 'internet', 'romantic', 'famrel', 'freetime', 'goout', 'Dalc',\n",
       "       'Walc', 'health', 'absences', 'G1', 'G2', 'G3', 'G3_cat'],\n",
       "      dtype='object')"
      ]
     },
     "execution_count": 141,
     "metadata": {},
     "output_type": "execute_result"
    }
   ],
   "source": [
    "mat.columns"
   ]
  },
  {
   "cell_type": "code",
   "execution_count": 50,
   "metadata": {},
   "outputs": [],
   "source": [
    "X=mat[['Medu', 'Fedu','failures','G1', 'G2','age','higher']]\n",
    "y=mat[\"G3\"]"
   ]
  },
  {
   "cell_type": "code",
   "execution_count": 51,
   "metadata": {},
   "outputs": [],
   "source": [
    "X_train, X_test, y_train, y_test = train_test_split(\n",
    "...     X, y, test_size=0.33, random_state=42)"
   ]
  },
  {
   "cell_type": "code",
   "execution_count": 55,
   "metadata": {},
   "outputs": [],
   "source": [
    "rfc=RandomForestClassifier(n_estimators=10)"
   ]
  },
  {
   "cell_type": "code",
   "execution_count": 56,
   "metadata": {},
   "outputs": [
    {
     "data": {
      "text/plain": [
       "RandomForestClassifier(bootstrap=True, class_weight=None, criterion='gini',\n",
       "                       max_depth=None, max_features='auto', max_leaf_nodes=None,\n",
       "                       min_impurity_decrease=0.0, min_impurity_split=None,\n",
       "                       min_samples_leaf=1, min_samples_split=2,\n",
       "                       min_weight_fraction_leaf=0.0, n_estimators=10,\n",
       "                       n_jobs=None, oob_score=False, random_state=None,\n",
       "                       verbose=0, warm_start=False)"
      ]
     },
     "execution_count": 56,
     "metadata": {},
     "output_type": "execute_result"
    }
   ],
   "source": [
    "rfc.fit(X_train,y_train)"
   ]
  },
  {
   "cell_type": "code",
   "execution_count": 58,
   "metadata": {},
   "outputs": [],
   "source": [
    "pre=rfc.predict(X_test)"
   ]
  },
  {
   "cell_type": "code",
   "execution_count": 59,
   "metadata": {},
   "outputs": [],
   "source": [
    "from sklearn.metrics import mean_squared_log_error"
   ]
  },
  {
   "cell_type": "code",
   "execution_count": 60,
   "metadata": {},
   "outputs": [
    {
     "data": {
      "text/plain": [
       "0.7306927586231587"
      ]
     },
     "execution_count": 60,
     "metadata": {},
     "output_type": "execute_result"
    }
   ],
   "source": [
    "mean_squared_log_error(y_test,pre)"
   ]
  },
  {
   "cell_type": "code",
   "execution_count": 62,
   "metadata": {},
   "outputs": [],
   "source": [
    "X=mat[['Medu', 'Fedu','failures','G1', 'G2','age','higher']]\n",
    "y=mat[\"G3_cat\"]\n",
    "lr=LogisticRegression()"
   ]
  },
  {
   "cell_type": "code",
   "execution_count": 63,
   "metadata": {},
   "outputs": [],
   "source": [
    "X_train, X_test, y_train, y_test = train_test_split(\n",
    "...     X, y, test_size=0.33, random_state=42)"
   ]
  },
  {
   "cell_type": "code",
   "execution_count": 64,
   "metadata": {},
   "outputs": [
    {
     "name": "stderr",
     "output_type": "stream",
     "text": [
      "C:\\ProgramData\\Anaconda3\\lib\\site-packages\\sklearn\\linear_model\\logistic.py:432: FutureWarning: Default solver will be changed to 'lbfgs' in 0.22. Specify a solver to silence this warning.\n",
      "  FutureWarning)\n",
      "C:\\ProgramData\\Anaconda3\\lib\\site-packages\\sklearn\\linear_model\\logistic.py:469: FutureWarning: Default multi_class will be changed to 'auto' in 0.22. Specify the multi_class option to silence this warning.\n",
      "  \"this warning.\", FutureWarning)\n"
     ]
    },
    {
     "data": {
      "text/plain": [
       "LogisticRegression(C=1.0, class_weight=None, dual=False, fit_intercept=True,\n",
       "                   intercept_scaling=1, l1_ratio=None, max_iter=100,\n",
       "                   multi_class='warn', n_jobs=None, penalty='l2',\n",
       "                   random_state=None, solver='warn', tol=0.0001, verbose=0,\n",
       "                   warm_start=False)"
      ]
     },
     "execution_count": 64,
     "metadata": {},
     "output_type": "execute_result"
    }
   ],
   "source": [
    "lr.fit(X_train,y_train)"
   ]
  },
  {
   "cell_type": "code",
   "execution_count": 65,
   "metadata": {},
   "outputs": [],
   "source": [
    "pre=lr.predict(X_test)"
   ]
  },
  {
   "cell_type": "code",
   "execution_count": 66,
   "metadata": {},
   "outputs": [
    {
     "data": {
      "text/plain": [
       "'              precision    recall  f1-score   support\\n\\n           0       0.33      0.57      0.42         7\\n           1       0.47      0.75      0.58        24\\n           2       0.96      0.68      0.80        78\\n           3       0.85      1.00      0.92        22\\n\\n    accuracy                           0.74       131\\n   macro avg       0.65      0.75      0.68       131\\nweighted avg       0.82      0.74      0.76       131\\n'"
      ]
     },
     "execution_count": 66,
     "metadata": {},
     "output_type": "execute_result"
    }
   ],
   "source": [
    "classification_report(pre,y_test)"
   ]
  },
  {
   "cell_type": "code",
   "execution_count": 67,
   "metadata": {},
   "outputs": [
    {
     "data": {
      "text/plain": [
       "array([[ 4,  3,  0,  0],\n",
       "       [ 4, 18,  2,  0],\n",
       "       [ 4, 17, 53,  4],\n",
       "       [ 0,  0,  0, 22]], dtype=int64)"
      ]
     },
     "execution_count": 67,
     "metadata": {},
     "output_type": "execute_result"
    }
   ],
   "source": [
    "confusion_matrix(pre,y_test)"
   ]
  },
  {
   "cell_type": "code",
   "execution_count": null,
   "metadata": {},
   "outputs": [],
   "source": [
    "#We didnt use the values of Fjob ,mjob ,reason ,we can use dummies for those column alone and i think we will get better accuracy."
   ]
  }
 ],
 "metadata": {
  "kernelspec": {
   "display_name": "Python 3",
   "language": "python",
   "name": "python3"
  },
  "language_info": {
   "codemirror_mode": {
    "name": "ipython",
    "version": 3
   },
   "file_extension": ".py",
   "mimetype": "text/x-python",
   "name": "python",
   "nbconvert_exporter": "python",
   "pygments_lexer": "ipython3",
   "version": "3.7.4"
  }
 },
 "nbformat": 4,
 "nbformat_minor": 2
}
